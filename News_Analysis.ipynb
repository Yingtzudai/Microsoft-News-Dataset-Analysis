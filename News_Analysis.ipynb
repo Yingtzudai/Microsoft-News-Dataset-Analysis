{
 "cells": [
  {
   "cell_type": "code",
   "execution_count": null,
   "id": "1e288493",
   "metadata": {},
   "outputs": [],
   "source": [
    "import pandas as pd\n",
    "import numpy as np\n",
    "import os\n",
    "import json"
   ]
  },
  {
   "cell_type": "code",
   "execution_count": 2,
   "id": "dddb39f6",
   "metadata": {},
   "outputs": [],
   "source": [
    "behaviors_path = r\"data/MINDsmall_train/behaviors.tsv\"\n",
    "news_path = r\"data/MINDsmall_train/news.tsv\"\n",
    "\n",
    "# Load behaviors data\n",
    "behaviors = pd.read_csv(behaviors_path, sep='\\t', header=None, names=['ImpressionID', 'UserID', 'Time', 'History', 'Impressions'])\n",
    "\n",
    "# Load news data\n",
    "news = pd.read_csv(news_path, sep='\\t', header=None, names=['NewsID', 'Category', 'SubCategory', 'Title', 'Abstract', 'URL', 'TitleEntities', 'AbstractEntities'])"
   ]
  },
  {
   "cell_type": "code",
   "execution_count": 4,
   "id": "ee150056",
   "metadata": {},
   "outputs": [
    {
     "data": {
      "text/plain": [
       "50000"
      ]
     },
     "execution_count": 4,
     "metadata": {},
     "output_type": "execute_result"
    }
   ],
   "source": [
    "len(behaviors['UserID'].unique())"
   ]
  },
  {
   "cell_type": "code",
   "execution_count": 21,
   "id": "6adae0eb",
   "metadata": {},
   "outputs": [],
   "source": [
    "# Transform Impressions column\n",
    "behaviors['Impressions'] = behaviors['Impressions'].apply(lambda x: x.split(' '))\n",
    "behaviors = behaviors.explode('Impressions')\n",
    "behaviors[['NewsID','Clicked']] = behaviors.Impressions.str.split('-', expand = True)\n",
    "behaviors = behaviors.drop(columns = ['Impressions'])"
   ]
  },
  {
   "cell_type": "code",
   "execution_count": 22,
   "id": "354149f7",
   "metadata": {},
   "outputs": [],
   "source": [
    "# Transform time column\n",
    "behaviors['Time'] = pd.to_datetime(behaviors['Time'])\n",
    "behaviors['Date'] = behaviors['Time'].dt.date\n",
    "behaviors['Hour'] = behaviors['Time'].dt.hour\n",
    "behaviors['DayOfWeek'] = behaviors['Time'].dt.strftime('%A')\n",
    "behaviors['IsWeekend'] = behaviors['DayOfWeek'].isin(['Saturday', 'Sunday'])"
   ]
  },
  {
   "cell_type": "code",
   "execution_count": 23,
   "id": "b83a2229",
   "metadata": {},
   "outputs": [],
   "source": [
    "# Transform TitleEntities & AbstractEntities\n",
    "\n",
    "def ExtractLabels(entity_json, threshold = 0.9):\n",
    "    try:\n",
    "        entities = json.loads(entity_json)\n",
    "        return [e['Label'] for e in entities if 'Label' in e and e['Confidence'] >= threshold]\n",
    "    except:\n",
    "        return []\n",
    "\n",
    "# Apply to create a new column of list of entity labels\n",
    "news['TitleEntityLabels'] = news['TitleEntities'].apply(ExtractLabels)\n",
    "news['AbstractEntityLabels'] = news['AbstractEntities'].apply(ExtractLabels)\n",
    "\n",
    "# Explode so each label gets its own row\n",
    "news_title_exploded = news.explode('TitleEntityLabels')\n",
    "news_abstract_exploded = news.explode('AbstractEntityLabels')"
   ]
  },
  {
   "cell_type": "code",
   "execution_count": 24,
   "id": "08877c26",
   "metadata": {},
   "outputs": [],
   "source": [
    "# Saved as csv files\n",
    "news_title_exploded = news_title_exploded.drop(columns = ['Category','SubCategory','Title','Abstract','URL','AbstractEntities','AbstractEntityLabels'])\n",
    "news_abstract_exploded = news_abstract_exploded.drop(columns = ['Category','SubCategory','Title','Abstract','URL','TitleEntities','TitleEntityLabels'])\n",
    "\n",
    "news_title_exploded.to_csv('data/news_title_labels.csv')\n",
    "news_abstract_exploded.to_csv('data/news_abstract_labels.csv')\n",
    "behaviors.to_csv('data/behaviors_flatten.csv')"
   ]
  },
  {
   "cell_type": "code",
   "execution_count": 25,
   "id": "12664f8a",
   "metadata": {},
   "outputs": [],
   "source": [
    "news_dim = news.drop(columns = ['TitleEntities', 'AbstractEntities','AbstractEntityLabels','TitleEntityLabels'])\n",
    "news_dim.to_csv('data/news_dim.csv')"
   ]
  },
  {
   "cell_type": "code",
   "execution_count": 26,
   "id": "247c5b69",
   "metadata": {},
   "outputs": [
    {
     "data": {
      "text/html": [
       "<div>\n",
       "<style scoped>\n",
       "    .dataframe tbody tr th:only-of-type {\n",
       "        vertical-align: middle;\n",
       "    }\n",
       "\n",
       "    .dataframe tbody tr th {\n",
       "        vertical-align: top;\n",
       "    }\n",
       "\n",
       "    .dataframe thead th {\n",
       "        text-align: right;\n",
       "    }\n",
       "</style>\n",
       "<table border=\"1\" class=\"dataframe\">\n",
       "  <thead>\n",
       "    <tr style=\"text-align: right;\">\n",
       "      <th></th>\n",
       "      <th>NewsID</th>\n",
       "      <th>TitleEntities</th>\n",
       "      <th>TitleEntityLabels</th>\n",
       "    </tr>\n",
       "  </thead>\n",
       "  <tbody>\n",
       "    <tr>\n",
       "      <th>0</th>\n",
       "      <td>N55528</td>\n",
       "      <td>[{\"Label\": \"Prince Philip, Duke of Edinburgh\",...</td>\n",
       "      <td>Prince Philip, Duke of Edinburgh</td>\n",
       "    </tr>\n",
       "    <tr>\n",
       "      <th>0</th>\n",
       "      <td>N55528</td>\n",
       "      <td>[{\"Label\": \"Prince Philip, Duke of Edinburgh\",...</td>\n",
       "      <td>Charles, Prince of Wales</td>\n",
       "    </tr>\n",
       "    <tr>\n",
       "      <th>0</th>\n",
       "      <td>N55528</td>\n",
       "      <td>[{\"Label\": \"Prince Philip, Duke of Edinburgh\",...</td>\n",
       "      <td>Elizabeth II</td>\n",
       "    </tr>\n",
       "    <tr>\n",
       "      <th>1</th>\n",
       "      <td>N19639</td>\n",
       "      <td>[{\"Label\": \"Adipose tissue\", \"Type\": \"C\", \"Wik...</td>\n",
       "      <td>Adipose tissue</td>\n",
       "    </tr>\n",
       "    <tr>\n",
       "      <th>2</th>\n",
       "      <td>N61837</td>\n",
       "      <td>[]</td>\n",
       "      <td>NaN</td>\n",
       "    </tr>\n",
       "  </tbody>\n",
       "</table>\n",
       "</div>"
      ],
      "text/plain": [
       "   NewsID                                      TitleEntities  \\\n",
       "0  N55528  [{\"Label\": \"Prince Philip, Duke of Edinburgh\",...   \n",
       "0  N55528  [{\"Label\": \"Prince Philip, Duke of Edinburgh\",...   \n",
       "0  N55528  [{\"Label\": \"Prince Philip, Duke of Edinburgh\",...   \n",
       "1  N19639  [{\"Label\": \"Adipose tissue\", \"Type\": \"C\", \"Wik...   \n",
       "2  N61837                                                 []   \n",
       "\n",
       "                  TitleEntityLabels  \n",
       "0  Prince Philip, Duke of Edinburgh  \n",
       "0          Charles, Prince of Wales  \n",
       "0                      Elizabeth II  \n",
       "1                    Adipose tissue  \n",
       "2                               NaN  "
      ]
     },
     "execution_count": 26,
     "metadata": {},
     "output_type": "execute_result"
    }
   ],
   "source": [
    "news_title_exploded.head()"
   ]
  },
  {
   "cell_type": "code",
   "execution_count": 27,
   "id": "5285dcb9",
   "metadata": {},
   "outputs": [
    {
     "data": {
      "text/html": [
       "<div>\n",
       "<style scoped>\n",
       "    .dataframe tbody tr th:only-of-type {\n",
       "        vertical-align: middle;\n",
       "    }\n",
       "\n",
       "    .dataframe tbody tr th {\n",
       "        vertical-align: top;\n",
       "    }\n",
       "\n",
       "    .dataframe thead th {\n",
       "        text-align: right;\n",
       "    }\n",
       "</style>\n",
       "<table border=\"1\" class=\"dataframe\">\n",
       "  <thead>\n",
       "    <tr style=\"text-align: right;\">\n",
       "      <th></th>\n",
       "      <th>NewsID</th>\n",
       "      <th>AbstractEntities</th>\n",
       "      <th>AbstractEntityLabels</th>\n",
       "    </tr>\n",
       "  </thead>\n",
       "  <tbody>\n",
       "    <tr>\n",
       "      <th>0</th>\n",
       "      <td>N55528</td>\n",
       "      <td>[]</td>\n",
       "      <td>NaN</td>\n",
       "    </tr>\n",
       "    <tr>\n",
       "      <th>1</th>\n",
       "      <td>N19639</td>\n",
       "      <td>[{\"Label\": \"Adipose tissue\", \"Type\": \"C\", \"Wik...</td>\n",
       "      <td>Adipose tissue</td>\n",
       "    </tr>\n",
       "    <tr>\n",
       "      <th>2</th>\n",
       "      <td>N61837</td>\n",
       "      <td>[{\"Label\": \"Ukraine\", \"Type\": \"G\", \"WikidataId...</td>\n",
       "      <td>Ukraine</td>\n",
       "    </tr>\n",
       "    <tr>\n",
       "      <th>3</th>\n",
       "      <td>N53526</td>\n",
       "      <td>[{\"Label\": \"National Basketball Association\", ...</td>\n",
       "      <td>National Basketball Association</td>\n",
       "    </tr>\n",
       "    <tr>\n",
       "      <th>4</th>\n",
       "      <td>N38324</td>\n",
       "      <td>[{\"Label\": \"Skin tag\", \"Type\": \"C\", \"WikidataI...</td>\n",
       "      <td>Skin tag</td>\n",
       "    </tr>\n",
       "  </tbody>\n",
       "</table>\n",
       "</div>"
      ],
      "text/plain": [
       "   NewsID                                   AbstractEntities  \\\n",
       "0  N55528                                                 []   \n",
       "1  N19639  [{\"Label\": \"Adipose tissue\", \"Type\": \"C\", \"Wik...   \n",
       "2  N61837  [{\"Label\": \"Ukraine\", \"Type\": \"G\", \"WikidataId...   \n",
       "3  N53526  [{\"Label\": \"National Basketball Association\", ...   \n",
       "4  N38324  [{\"Label\": \"Skin tag\", \"Type\": \"C\", \"WikidataI...   \n",
       "\n",
       "              AbstractEntityLabels  \n",
       "0                              NaN  \n",
       "1                   Adipose tissue  \n",
       "2                          Ukraine  \n",
       "3  National Basketball Association  \n",
       "4                         Skin tag  "
      ]
     },
     "execution_count": 27,
     "metadata": {},
     "output_type": "execute_result"
    }
   ],
   "source": [
    "news_abstract_exploded.head()\n"
   ]
  },
  {
   "cell_type": "code",
   "execution_count": 30,
   "id": "72e9afb7",
   "metadata": {},
   "outputs": [
    {
     "name": "stdout",
     "output_type": "stream",
     "text": [
      "[datetime.date(2019, 11, 11) datetime.date(2019, 11, 12)\n",
      " datetime.date(2019, 11, 14) datetime.date(2019, 11, 13)\n",
      " datetime.date(2019, 11, 10) datetime.date(2019, 11, 9)]\n"
     ]
    }
   ],
   "source": [
    "behaviors.head()\n",
    "print(behaviors['Date'].unique())"
   ]
  },
  {
   "cell_type": "code",
   "execution_count": 29,
   "id": "d99e2409",
   "metadata": {},
   "outputs": [
    {
     "data": {
      "text/html": [
       "<div>\n",
       "<style scoped>\n",
       "    .dataframe tbody tr th:only-of-type {\n",
       "        vertical-align: middle;\n",
       "    }\n",
       "\n",
       "    .dataframe tbody tr th {\n",
       "        vertical-align: top;\n",
       "    }\n",
       "\n",
       "    .dataframe thead th {\n",
       "        text-align: right;\n",
       "    }\n",
       "</style>\n",
       "<table border=\"1\" class=\"dataframe\">\n",
       "  <thead>\n",
       "    <tr style=\"text-align: right;\">\n",
       "      <th></th>\n",
       "      <th>NewsID</th>\n",
       "      <th>Category</th>\n",
       "      <th>SubCategory</th>\n",
       "      <th>Title</th>\n",
       "      <th>Abstract</th>\n",
       "      <th>URL</th>\n",
       "    </tr>\n",
       "  </thead>\n",
       "  <tbody>\n",
       "    <tr>\n",
       "      <th>0</th>\n",
       "      <td>N55528</td>\n",
       "      <td>lifestyle</td>\n",
       "      <td>lifestyleroyals</td>\n",
       "      <td>The Brands Queen Elizabeth, Prince Charles, an...</td>\n",
       "      <td>Shop the notebooks, jackets, and more that the...</td>\n",
       "      <td>https://assets.msn.com/labs/mind/AAGH0ET.html</td>\n",
       "    </tr>\n",
       "    <tr>\n",
       "      <th>1</th>\n",
       "      <td>N19639</td>\n",
       "      <td>health</td>\n",
       "      <td>weightloss</td>\n",
       "      <td>50 Worst Habits For Belly Fat</td>\n",
       "      <td>These seemingly harmless habits are holding yo...</td>\n",
       "      <td>https://assets.msn.com/labs/mind/AAB19MK.html</td>\n",
       "    </tr>\n",
       "    <tr>\n",
       "      <th>2</th>\n",
       "      <td>N61837</td>\n",
       "      <td>news</td>\n",
       "      <td>newsworld</td>\n",
       "      <td>The Cost of Trump's Aid Freeze in the Trenches...</td>\n",
       "      <td>Lt. Ivan Molchanets peeked over a parapet of s...</td>\n",
       "      <td>https://assets.msn.com/labs/mind/AAJgNsz.html</td>\n",
       "    </tr>\n",
       "    <tr>\n",
       "      <th>3</th>\n",
       "      <td>N53526</td>\n",
       "      <td>health</td>\n",
       "      <td>voices</td>\n",
       "      <td>I Was An NBA Wife. Here's How It Affected My M...</td>\n",
       "      <td>I felt like I was a fraud, and being an NBA wi...</td>\n",
       "      <td>https://assets.msn.com/labs/mind/AACk2N6.html</td>\n",
       "    </tr>\n",
       "    <tr>\n",
       "      <th>4</th>\n",
       "      <td>N38324</td>\n",
       "      <td>health</td>\n",
       "      <td>medical</td>\n",
       "      <td>How to Get Rid of Skin Tags, According to a De...</td>\n",
       "      <td>They seem harmless, but there's a very good re...</td>\n",
       "      <td>https://assets.msn.com/labs/mind/AAAKEkt.html</td>\n",
       "    </tr>\n",
       "  </tbody>\n",
       "</table>\n",
       "</div>"
      ],
      "text/plain": [
       "   NewsID   Category      SubCategory  \\\n",
       "0  N55528  lifestyle  lifestyleroyals   \n",
       "1  N19639     health       weightloss   \n",
       "2  N61837       news        newsworld   \n",
       "3  N53526     health           voices   \n",
       "4  N38324     health          medical   \n",
       "\n",
       "                                               Title  \\\n",
       "0  The Brands Queen Elizabeth, Prince Charles, an...   \n",
       "1                      50 Worst Habits For Belly Fat   \n",
       "2  The Cost of Trump's Aid Freeze in the Trenches...   \n",
       "3  I Was An NBA Wife. Here's How It Affected My M...   \n",
       "4  How to Get Rid of Skin Tags, According to a De...   \n",
       "\n",
       "                                            Abstract  \\\n",
       "0  Shop the notebooks, jackets, and more that the...   \n",
       "1  These seemingly harmless habits are holding yo...   \n",
       "2  Lt. Ivan Molchanets peeked over a parapet of s...   \n",
       "3  I felt like I was a fraud, and being an NBA wi...   \n",
       "4  They seem harmless, but there's a very good re...   \n",
       "\n",
       "                                             URL  \n",
       "0  https://assets.msn.com/labs/mind/AAGH0ET.html  \n",
       "1  https://assets.msn.com/labs/mind/AAB19MK.html  \n",
       "2  https://assets.msn.com/labs/mind/AAJgNsz.html  \n",
       "3  https://assets.msn.com/labs/mind/AACk2N6.html  \n",
       "4  https://assets.msn.com/labs/mind/AAAKEkt.html  "
      ]
     },
     "execution_count": 29,
     "metadata": {},
     "output_type": "execute_result"
    }
   ],
   "source": [
    "news_dim.head()"
   ]
  }
 ],
 "metadata": {
  "kernelspec": {
   "display_name": "MIND",
   "language": "python",
   "name": "python3"
  },
  "language_info": {
   "codemirror_mode": {
    "name": "ipython",
    "version": 3
   },
   "file_extension": ".py",
   "mimetype": "text/x-python",
   "name": "python",
   "nbconvert_exporter": "python",
   "pygments_lexer": "ipython3",
   "version": "3.9.21"
  }
 },
 "nbformat": 4,
 "nbformat_minor": 5
}
