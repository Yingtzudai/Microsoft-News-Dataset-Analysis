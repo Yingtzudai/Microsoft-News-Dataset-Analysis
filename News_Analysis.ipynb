{
 "cells": [
  {
   "cell_type": "code",
   "execution_count": 25,
   "id": "1e288493",
   "metadata": {},
   "outputs": [],
   "source": [
    "import pandas as pd\n",
    "import os\n",
    "import json"
   ]
  },
  {
   "cell_type": "code",
   "execution_count": 26,
   "id": "dddb39f6",
   "metadata": {},
   "outputs": [],
   "source": [
    "behaviors_path = r\"data/MINDsmall_train/behaviors.tsv\"\n",
    "news_path = r\"data/MINDsmall_train/news.tsv\"\n",
    "\n",
    "# Load behaviors data\n",
    "behaviors = pd.read_csv(behaviors_path, sep='\\t', header=None, names=['ImpressionID', 'UserID', 'Time', 'History', 'Impressions'])\n",
    "\n",
    "# Load news data\n",
    "news = pd.read_csv(news_path, sep='\\t', header=None, names=['NewsID', 'Category', 'SubCategory', 'Title', 'Abstract', 'URL', 'TitleEntities', 'AbstractEntities'])"
   ]
  },
  {
   "cell_type": "code",
   "execution_count": 27,
   "id": "6adae0eb",
   "metadata": {},
   "outputs": [],
   "source": [
    "# Transform Impressions column\n",
    "behaviors['Impressions'] = behaviors['Impressions'].apply(lambda x: x.split(' '))\n",
    "behaviors = behaviors.explode('Impressions')\n",
    "behaviors[['NewsID','Clicked']] = behaviors.Impressions.str.split('-', expand = True)\n",
    "behaviors = behaviors.drop(columns = ['Impressions'])"
   ]
  },
  {
   "cell_type": "code",
   "execution_count": 28,
   "id": "354149f7",
   "metadata": {},
   "outputs": [],
   "source": [
    "# Transform time column\n",
    "behaviors['Time'] = pd.to_datetime(behaviors['Time'])\n",
    "behaviors['Date'] = behaviors['Time'].dt.date\n",
    "behaviors['Hour'] = behaviors['Time'].dt.hour\n",
    "behaviors['DayOfWeek'] = behaviors['Time'].dt.strftime('%A')\n",
    "behaviors['IsWeekend'] = behaviors['DayOfWeek'].isin(['Saturday', 'Sunday'])"
   ]
  },
  {
   "cell_type": "code",
   "execution_count": null,
   "id": "b83a2229",
   "metadata": {},
   "outputs": [],
   "source": [
    "# Transform TitleEntities & AbstractEntities\n",
    "\n",
    "def ExtractLabels(entity_json, threshold = 0.9):\n",
    "    try:\n",
    "        entities = json.loads(entity_json)\n",
    "        return [e['Label'] for e in entities if 'Label' in e and e['Confidence'] >= threshold]\n",
    "    except:\n",
    "        return []\n",
    "\n",
    "# Apply to create a new column of list of entity labels\n",
    "news['TitleEntityLabels'] = news['TitleEntities'].apply(ExtractLabels)\n",
    "news['AbstractEntityLabels'] = news['AbstractEntities'].apply(ExtractLabels)\n",
    "\n",
    "# Explode so each label gets its own row\n",
    "news_title_exploded = news.explode('TitleEntityLabels')\n",
    "news_abstract_exploded = news.explode('AbstractEntityLabels')"
   ]
  },
  {
   "cell_type": "code",
   "execution_count": null,
   "id": "08877c26",
   "metadata": {},
   "outputs": [],
   "source": [
    "# Saved as csv files\n",
    "news_title_exploded = news_title_exploded.drop(columns = ['Category','SubCategory','Title','Abstract','URL','AbstractEntities','AbstractEntityLabels'])\n",
    "news_abstract_exploded = news_abstract_exploded.drop(columns = ['Category','SubCategory','Title','Abstract','URL','TitleEntities','TitleEntityLabels'])\n",
    "\n",
    "news_title_exploded.to_csv('data/news_title_labels.csv')\n",
    "news_abstract_exploded.to_csv('data/news_abstract_labels.csv')\n",
    "behaviors.to_csv('data/behaviors_flatten.csv')"
   ]
  },
  {
   "cell_type": "code",
   "execution_count": 32,
   "id": "12664f8a",
   "metadata": {},
   "outputs": [],
   "source": [
    "news_dim = news.drop(columns = ['TitleEntities', 'AbstractEntities','AbstractEntityLabels','TitleEntityLabels'])\n",
    "news_dim.to_csv('data/news_dim.csv')"
   ]
  }
 ],
 "metadata": {
  "kernelspec": {
   "display_name": "MIND",
   "language": "python",
   "name": "python3"
  },
  "language_info": {
   "codemirror_mode": {
    "name": "ipython",
    "version": 3
   },
   "file_extension": ".py",
   "mimetype": "text/x-python",
   "name": "python",
   "nbconvert_exporter": "python",
   "pygments_lexer": "ipython3",
   "version": "3.9.21"
  }
 },
 "nbformat": 4,
 "nbformat_minor": 5
}
